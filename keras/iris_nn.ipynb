{
  "nbformat": 4,
  "nbformat_minor": 0,
  "metadata": {
    "colab": {
      "name": "iris_nn.ipynb",
      "version": "0.3.2",
      "provenance": [],
      "collapsed_sections": []
    },
    "kernelspec": {
      "name": "python3",
      "display_name": "Python 3"
    }
  },
  "cells": [
    {
      "cell_type": "code",
      "metadata": {
        "id": "q5afMEslyVHX",
        "colab_type": "code",
        "outputId": "dc678fb8-e619-4e54-9978-09c434e3a3a3",
        "colab": {
          "base_uri": "https://localhost:8080/",
          "height": 34
        }
      },
      "source": [
        "from __future__ import absolute_import, division, print_function, unicode_literals\n",
        "\n",
        "import numpy as np\n",
        "import pandas as pd\n",
        "\n",
        "try:\n",
        "  # %tensorflow_version only exists in Colab.\n",
        "  %tensorflow_version 2.x\n",
        "except Exception:\n",
        "  pass\n",
        "import tensorflow as tf\n",
        "\n",
        "from tensorflow import feature_column\n",
        "from tensorflow.keras import layers\n",
        "from sklearn.model_selection import train_test_split"
      ],
      "execution_count": 0,
      "outputs": [
        {
          "output_type": "stream",
          "text": [
            "TensorFlow 2.x selected.\n"
          ],
          "name": "stdout"
        }
      ]
    },
    {
      "cell_type": "code",
      "metadata": {
        "id": "RzmmDmW-uv12",
        "colab_type": "code",
        "colab": {}
      },
      "source": [
        "import pandas as pd "
      ],
      "execution_count": 0,
      "outputs": []
    },
    {
      "cell_type": "code",
      "metadata": {
        "id": "BSOFMlk4u7W5",
        "colab_type": "code",
        "outputId": "53c65e9b-7287-45ea-9612-3b6bd525df54",
        "colab": {
          "base_uri": "https://localhost:8080/",
          "height": 110
        }
      },
      "source": [
        "url = \"https://github.com/motazsaad/work-online-ds/raw/master/data/IRIS.csv\"\n",
        "\n",
        "dataframe = pd.read_csv(url)\n",
        "dataframe.head(2)"
      ],
      "execution_count": 0,
      "outputs": [
        {
          "output_type": "execute_result",
          "data": {
            "text/html": [
              "<div>\n",
              "<style scoped>\n",
              "    .dataframe tbody tr th:only-of-type {\n",
              "        vertical-align: middle;\n",
              "    }\n",
              "\n",
              "    .dataframe tbody tr th {\n",
              "        vertical-align: top;\n",
              "    }\n",
              "\n",
              "    .dataframe thead th {\n",
              "        text-align: right;\n",
              "    }\n",
              "</style>\n",
              "<table border=\"1\" class=\"dataframe\">\n",
              "  <thead>\n",
              "    <tr style=\"text-align: right;\">\n",
              "      <th></th>\n",
              "      <th>sepal_length</th>\n",
              "      <th>sepal_width</th>\n",
              "      <th>petal_length</th>\n",
              "      <th>petal_width</th>\n",
              "      <th>species</th>\n",
              "    </tr>\n",
              "  </thead>\n",
              "  <tbody>\n",
              "    <tr>\n",
              "      <th>0</th>\n",
              "      <td>5.1</td>\n",
              "      <td>3.5</td>\n",
              "      <td>1.4</td>\n",
              "      <td>0.2</td>\n",
              "      <td>Iris-setosa</td>\n",
              "    </tr>\n",
              "    <tr>\n",
              "      <th>1</th>\n",
              "      <td>4.9</td>\n",
              "      <td>3.0</td>\n",
              "      <td>1.4</td>\n",
              "      <td>0.2</td>\n",
              "      <td>Iris-setosa</td>\n",
              "    </tr>\n",
              "  </tbody>\n",
              "</table>\n",
              "</div>"
            ],
            "text/plain": [
              "   sepal_length  sepal_width  petal_length  petal_width      species\n",
              "0           5.1          3.5           1.4          0.2  Iris-setosa\n",
              "1           4.9          3.0           1.4          0.2  Iris-setosa"
            ]
          },
          "metadata": {
            "tags": []
          },
          "execution_count": 3
        }
      ]
    },
    {
      "cell_type": "markdown",
      "metadata": {
        "id": "Ek_xC5xyu_Yf",
        "colab_type": "text"
      },
      "source": [
        "# Steps: \n",
        "# 2. split data\n",
        "# 3. load as tensor slice data\n",
        "# 4. shuffle and batch \n",
        "# 5. apply sequential model"
      ]
    },
    {
      "cell_type": "code",
      "metadata": {
        "id": "GTALpeFhFZum",
        "colab_type": "code",
        "outputId": "7507efde-b79c-4e61-9535-f08e4b2082e7",
        "colab": {
          "base_uri": "https://localhost:8080/",
          "height": 202
        }
      },
      "source": [
        "from sklearn import preprocessing\n",
        "le = preprocessing.LabelEncoder()\n",
        "dataframe = dataframe.apply(le.fit_transform)\n",
        "dataframe.tail()"
      ],
      "execution_count": 0,
      "outputs": [
        {
          "output_type": "execute_result",
          "data": {
            "text/html": [
              "<div>\n",
              "<style scoped>\n",
              "    .dataframe tbody tr th:only-of-type {\n",
              "        vertical-align: middle;\n",
              "    }\n",
              "\n",
              "    .dataframe tbody tr th {\n",
              "        vertical-align: top;\n",
              "    }\n",
              "\n",
              "    .dataframe thead th {\n",
              "        text-align: right;\n",
              "    }\n",
              "</style>\n",
              "<table border=\"1\" class=\"dataframe\">\n",
              "  <thead>\n",
              "    <tr style=\"text-align: right;\">\n",
              "      <th></th>\n",
              "      <th>sepal_length</th>\n",
              "      <th>sepal_width</th>\n",
              "      <th>petal_length</th>\n",
              "      <th>petal_width</th>\n",
              "      <th>species</th>\n",
              "    </tr>\n",
              "  </thead>\n",
              "  <tbody>\n",
              "    <tr>\n",
              "      <th>145</th>\n",
              "      <td>24</td>\n",
              "      <td>9</td>\n",
              "      <td>28</td>\n",
              "      <td>19</td>\n",
              "      <td>2</td>\n",
              "    </tr>\n",
              "    <tr>\n",
              "      <th>146</th>\n",
              "      <td>20</td>\n",
              "      <td>4</td>\n",
              "      <td>26</td>\n",
              "      <td>15</td>\n",
              "      <td>2</td>\n",
              "    </tr>\n",
              "    <tr>\n",
              "      <th>147</th>\n",
              "      <td>22</td>\n",
              "      <td>9</td>\n",
              "      <td>28</td>\n",
              "      <td>16</td>\n",
              "      <td>2</td>\n",
              "    </tr>\n",
              "    <tr>\n",
              "      <th>148</th>\n",
              "      <td>19</td>\n",
              "      <td>13</td>\n",
              "      <td>30</td>\n",
              "      <td>19</td>\n",
              "      <td>2</td>\n",
              "    </tr>\n",
              "    <tr>\n",
              "      <th>149</th>\n",
              "      <td>16</td>\n",
              "      <td>9</td>\n",
              "      <td>27</td>\n",
              "      <td>14</td>\n",
              "      <td>2</td>\n",
              "    </tr>\n",
              "  </tbody>\n",
              "</table>\n",
              "</div>"
            ],
            "text/plain": [
              "     sepal_length  sepal_width  petal_length  petal_width  species\n",
              "145            24            9            28           19        2\n",
              "146            20            4            26           15        2\n",
              "147            22            9            28           16        2\n",
              "148            19           13            30           19        2\n",
              "149            16            9            27           14        2"
            ]
          },
          "metadata": {
            "tags": []
          },
          "execution_count": 7
        }
      ]
    },
    {
      "cell_type": "code",
      "metadata": {
        "id": "tcbBTsTJw2Ka",
        "colab_type": "code",
        "outputId": "95cb6825-8449-4b7a-e3eb-6326a9960ab3",
        "colab": {
          "base_uri": "https://localhost:8080/",
          "height": 69
        }
      },
      "source": [
        "train, test = train_test_split(dataframe, test_size=0.1)\n",
        "train, val = train_test_split(train, test_size=0.1)\n",
        "print(len(train), 'train examples')\n",
        "print(len(val), 'validation examples')\n",
        "print(len(test), 'test examples')\n"
      ],
      "execution_count": 0,
      "outputs": [
        {
          "output_type": "stream",
          "text": [
            "121 train examples\n",
            "14 validation examples\n",
            "15 test examples\n"
          ],
          "name": "stdout"
        }
      ]
    },
    {
      "cell_type": "code",
      "metadata": {
        "id": "mSyJyTzbxye3",
        "colab_type": "code",
        "colab": {}
      },
      "source": [
        "# A utility method to create a tf.data dataset from a Pandas Dataframe\n",
        "def df_to_dataset(dataframe, target, shuffle=True, batch_size=100):\n",
        "  dataframe = dataframe.copy()\n",
        "  labels = dataframe.pop(target)\n",
        "  ds = tf.data.Dataset.from_tensor_slices((dict(dataframe), labels))\n",
        "  if shuffle:\n",
        "    ds = ds.shuffle(buffer_size=len(dataframe))\n",
        "  ds = ds.batch(batch_size)\n",
        "  return ds"
      ],
      "execution_count": 0,
      "outputs": []
    },
    {
      "cell_type": "code",
      "metadata": {
        "id": "E8XoDF9wyDT4",
        "colab_type": "code",
        "colab": {}
      },
      "source": [
        "batch_size = 10 # A small batch sized is used for demonstration purposes\n",
        "train_ds = df_to_dataset(dataframe=train, target='species', shuffle=True, batch_size=batch_size)\n",
        "val_ds = df_to_dataset(dataframe=val,  target='species', shuffle=False, batch_size=batch_size)\n",
        "test_ds = df_to_dataset(dataframe=test,  target='species', shuffle=False, batch_size=batch_size)"
      ],
      "execution_count": 0,
      "outputs": []
    },
    {
      "cell_type": "code",
      "metadata": {
        "id": "XacSW09b0lhX",
        "colab_type": "code",
        "outputId": "809584b4-c0f3-4911-a67a-c143812ea406",
        "colab": {
          "base_uri": "https://localhost:8080/",
          "height": 69
        }
      },
      "source": [
        "dataframe.keys()"
      ],
      "execution_count": 0,
      "outputs": [
        {
          "output_type": "execute_result",
          "data": {
            "text/plain": [
              "Index(['sepal_length', 'sepal_width', 'petal_length', 'petal_width',\n",
              "       'species'],\n",
              "      dtype='object')"
            ]
          },
          "metadata": {
            "tags": []
          },
          "execution_count": 13
        }
      ]
    },
    {
      "cell_type": "code",
      "metadata": {
        "id": "4rZjPGKX0172",
        "colab_type": "code",
        "colab": {}
      },
      "source": [
        "feature_columns = []\n",
        "\n",
        "# numeric cols\n",
        "for col in dataframe.keys():\n",
        "  if col == 'species':\n",
        "    continue\n",
        "  feature_columns.append(feature_column.numeric_column(col))"
      ],
      "execution_count": 0,
      "outputs": []
    },
    {
      "cell_type": "code",
      "metadata": {
        "id": "YsFc0WmSGrEe",
        "colab_type": "code",
        "outputId": "a6ee180c-e785-4850-c577-bd65edc5e99e",
        "colab": {
          "base_uri": "https://localhost:8080/",
          "height": 107
        }
      },
      "source": [
        "feature_columns"
      ],
      "execution_count": 0,
      "outputs": [
        {
          "output_type": "execute_result",
          "data": {
            "text/plain": [
              "[NumericColumn(key='sepal_length', shape=(1,), default_value=None, dtype=tf.float32, normalizer_fn=None),\n",
              " NumericColumn(key='sepal_width', shape=(1,), default_value=None, dtype=tf.float32, normalizer_fn=None),\n",
              " NumericColumn(key='petal_length', shape=(1,), default_value=None, dtype=tf.float32, normalizer_fn=None),\n",
              " NumericColumn(key='petal_width', shape=(1,), default_value=None, dtype=tf.float32, normalizer_fn=None)]"
            ]
          },
          "metadata": {
            "tags": []
          },
          "execution_count": 16
        }
      ]
    },
    {
      "cell_type": "code",
      "metadata": {
        "id": "7QNl6J_Hz5x8",
        "colab_type": "code",
        "colab": {}
      },
      "source": [
        "model = tf.keras.models.Sequential()\n",
        "model.add(tf.keras.layers.DenseFeatures(feature_columns))\n",
        "model.add(tf.keras.layers.Dense(128, activation='relu'))\n",
        "model.add(tf.keras.layers.Dense(128, activation='relu'))\n",
        "model.add(tf.keras.layers.Dense(3, activation='softmax'))"
      ],
      "execution_count": 0,
      "outputs": []
    },
    {
      "cell_type": "code",
      "metadata": {
        "id": "5fqhq_xK0COI",
        "colab_type": "code",
        "colab": {}
      },
      "source": [
        "  model.compile(loss='sparse_categorical_crossentropy',\n",
        "                optimizer='adam',\n",
        "                metrics=['accuracy'])"
      ],
      "execution_count": 0,
      "outputs": []
    },
    {
      "cell_type": "code",
      "metadata": {
        "id": "q4cUuw2z0IZU",
        "colab_type": "code",
        "outputId": "78fa0daa-de85-40b4-f1af-fc4a2d1c5433",
        "colab": {
          "base_uri": "https://localhost:8080/",
          "height": 1000
        }
      },
      "source": [
        "model.fit(train_ds,\n",
        "          validation_data=val_ds,\n",
        "          epochs=100)"
      ],
      "execution_count": 0,
      "outputs": [
        {
          "output_type": "stream",
          "text": [
            "Epoch 1/100\n",
            "13/13 [==============================] - 0s 7ms/step - loss: 8.9675e-04 - accuracy: 1.0000 - val_loss: 0.0000e+00 - val_accuracy: 0.0000e+00\n",
            "Epoch 2/100\n",
            "13/13 [==============================] - 0s 3ms/step - loss: 9.2841e-04 - accuracy: 1.0000 - val_loss: 1.1570 - val_accuracy: 0.8571\n",
            "Epoch 3/100\n",
            "13/13 [==============================] - 0s 3ms/step - loss: 9.6226e-04 - accuracy: 1.0000 - val_loss: 1.2009 - val_accuracy: 0.8571\n",
            "Epoch 4/100\n",
            "13/13 [==============================] - 0s 3ms/step - loss: 9.1855e-04 - accuracy: 1.0000 - val_loss: 1.1720 - val_accuracy: 0.8571\n",
            "Epoch 5/100\n",
            "13/13 [==============================] - 0s 4ms/step - loss: 8.6740e-04 - accuracy: 1.0000 - val_loss: 1.1882 - val_accuracy: 0.8571\n",
            "Epoch 6/100\n",
            "13/13 [==============================] - 0s 4ms/step - loss: 0.0011 - accuracy: 1.0000 - val_loss: 1.1038 - val_accuracy: 0.8571\n",
            "Epoch 7/100\n",
            "13/13 [==============================] - 0s 4ms/step - loss: 8.4866e-04 - accuracy: 1.0000 - val_loss: 1.2185 - val_accuracy: 0.8571\n",
            "Epoch 8/100\n",
            "13/13 [==============================] - 0s 3ms/step - loss: 0.0019 - accuracy: 1.0000 - val_loss: 1.0789 - val_accuracy: 0.8571\n",
            "Epoch 9/100\n",
            "13/13 [==============================] - 0s 3ms/step - loss: 0.0014 - accuracy: 1.0000 - val_loss: 1.4052 - val_accuracy: 0.8571\n",
            "Epoch 10/100\n",
            "13/13 [==============================] - 0s 3ms/step - loss: 0.0011 - accuracy: 1.0000 - val_loss: 1.2531 - val_accuracy: 0.8571\n",
            "Epoch 11/100\n",
            "13/13 [==============================] - 0s 3ms/step - loss: 8.4090e-04 - accuracy: 1.0000 - val_loss: 1.2384 - val_accuracy: 0.8571\n",
            "Epoch 12/100\n",
            "13/13 [==============================] - 0s 3ms/step - loss: 8.1148e-04 - accuracy: 1.0000 - val_loss: 1.2770 - val_accuracy: 0.8571\n",
            "Epoch 13/100\n",
            "13/13 [==============================] - 0s 3ms/step - loss: 8.0336e-04 - accuracy: 1.0000 - val_loss: 1.2603 - val_accuracy: 0.8571\n",
            "Epoch 14/100\n",
            "13/13 [==============================] - 0s 3ms/step - loss: 8.3648e-04 - accuracy: 1.0000 - val_loss: 1.2238 - val_accuracy: 0.8571\n",
            "Epoch 15/100\n",
            "13/13 [==============================] - 0s 3ms/step - loss: 8.3224e-04 - accuracy: 1.0000 - val_loss: 1.2247 - val_accuracy: 0.8571\n",
            "Epoch 16/100\n",
            "13/13 [==============================] - 0s 4ms/step - loss: 8.4321e-04 - accuracy: 1.0000 - val_loss: 1.2273 - val_accuracy: 0.8571\n",
            "Epoch 17/100\n",
            "13/13 [==============================] - 0s 3ms/step - loss: 7.3005e-04 - accuracy: 1.0000 - val_loss: 1.3143 - val_accuracy: 0.8571\n",
            "Epoch 18/100\n",
            "13/13 [==============================] - 0s 3ms/step - loss: 0.0013 - accuracy: 1.0000 - val_loss: 1.1278 - val_accuracy: 0.8571\n",
            "Epoch 19/100\n",
            "13/13 [==============================] - 0s 3ms/step - loss: 9.3168e-04 - accuracy: 1.0000 - val_loss: 1.2663 - val_accuracy: 0.8571\n",
            "Epoch 20/100\n",
            "13/13 [==============================] - 0s 3ms/step - loss: 7.8309e-04 - accuracy: 1.0000 - val_loss: 1.1890 - val_accuracy: 0.8571\n",
            "Epoch 21/100\n",
            "13/13 [==============================] - 0s 3ms/step - loss: 7.8876e-04 - accuracy: 1.0000 - val_loss: 1.2208 - val_accuracy: 0.8571\n",
            "Epoch 22/100\n",
            "13/13 [==============================] - 0s 3ms/step - loss: 7.7291e-04 - accuracy: 1.0000 - val_loss: 1.2625 - val_accuracy: 0.8571\n",
            "Epoch 23/100\n",
            "13/13 [==============================] - 0s 3ms/step - loss: 7.7947e-04 - accuracy: 1.0000 - val_loss: 1.2361 - val_accuracy: 0.8571\n",
            "Epoch 24/100\n",
            "13/13 [==============================] - 0s 3ms/step - loss: 8.4587e-04 - accuracy: 1.0000 - val_loss: 1.2146 - val_accuracy: 0.8571\n",
            "Epoch 25/100\n",
            "13/13 [==============================] - 0s 3ms/step - loss: 6.6288e-04 - accuracy: 1.0000 - val_loss: 1.2984 - val_accuracy: 0.8571\n",
            "Epoch 26/100\n",
            "13/13 [==============================] - 0s 3ms/step - loss: 7.1781e-04 - accuracy: 1.0000 - val_loss: 1.2383 - val_accuracy: 0.8571\n",
            "Epoch 27/100\n",
            "13/13 [==============================] - 0s 3ms/step - loss: 6.8298e-04 - accuracy: 1.0000 - val_loss: 1.2458 - val_accuracy: 0.8571\n",
            "Epoch 28/100\n",
            "13/13 [==============================] - 0s 3ms/step - loss: 6.9806e-04 - accuracy: 1.0000 - val_loss: 1.2611 - val_accuracy: 0.8571\n",
            "Epoch 29/100\n",
            "13/13 [==============================] - 0s 3ms/step - loss: 6.8208e-04 - accuracy: 1.0000 - val_loss: 1.2880 - val_accuracy: 0.8571\n",
            "Epoch 30/100\n",
            "13/13 [==============================] - 0s 3ms/step - loss: 6.6594e-04 - accuracy: 1.0000 - val_loss: 1.2462 - val_accuracy: 0.8571\n",
            "Epoch 31/100\n",
            "13/13 [==============================] - 0s 3ms/step - loss: 6.9384e-04 - accuracy: 1.0000 - val_loss: 1.2862 - val_accuracy: 0.8571\n",
            "Epoch 32/100\n",
            "13/13 [==============================] - 0s 3ms/step - loss: 8.2398e-04 - accuracy: 1.0000 - val_loss: 1.2350 - val_accuracy: 0.8571\n",
            "Epoch 33/100\n",
            "13/13 [==============================] - 0s 3ms/step - loss: 8.4788e-04 - accuracy: 1.0000 - val_loss: 1.3087 - val_accuracy: 0.8571\n",
            "Epoch 34/100\n",
            "13/13 [==============================] - 0s 4ms/step - loss: 7.0422e-04 - accuracy: 1.0000 - val_loss: 1.2912 - val_accuracy: 0.8571\n",
            "Epoch 35/100\n",
            "13/13 [==============================] - 0s 4ms/step - loss: 6.8491e-04 - accuracy: 1.0000 - val_loss: 1.2521 - val_accuracy: 0.8571\n",
            "Epoch 36/100\n",
            "13/13 [==============================] - 0s 4ms/step - loss: 6.2842e-04 - accuracy: 1.0000 - val_loss: 1.3277 - val_accuracy: 0.8571\n",
            "Epoch 37/100\n",
            "13/13 [==============================] - 0s 4ms/step - loss: 6.5972e-04 - accuracy: 1.0000 - val_loss: 1.2995 - val_accuracy: 0.8571\n",
            "Epoch 38/100\n",
            "13/13 [==============================] - 0s 4ms/step - loss: 6.7098e-04 - accuracy: 1.0000 - val_loss: 1.3059 - val_accuracy: 0.8571\n",
            "Epoch 39/100\n",
            "13/13 [==============================] - 0s 3ms/step - loss: 6.1506e-04 - accuracy: 1.0000 - val_loss: 1.3092 - val_accuracy: 0.8571\n",
            "Epoch 40/100\n",
            "13/13 [==============================] - 0s 4ms/step - loss: 5.8232e-04 - accuracy: 1.0000 - val_loss: 1.2856 - val_accuracy: 0.8571\n",
            "Epoch 41/100\n",
            "13/13 [==============================] - 0s 4ms/step - loss: 5.7229e-04 - accuracy: 1.0000 - val_loss: 1.2736 - val_accuracy: 0.8571\n",
            "Epoch 42/100\n",
            "13/13 [==============================] - 0s 4ms/step - loss: 9.4390e-04 - accuracy: 1.0000 - val_loss: 1.3576 - val_accuracy: 0.8571\n",
            "Epoch 43/100\n",
            "13/13 [==============================] - 0s 4ms/step - loss: 8.3748e-04 - accuracy: 1.0000 - val_loss: 1.2161 - val_accuracy: 0.8571\n",
            "Epoch 44/100\n",
            "13/13 [==============================] - 0s 4ms/step - loss: 0.0012 - accuracy: 1.0000 - val_loss: 1.5139 - val_accuracy: 0.8571\n",
            "Epoch 45/100\n",
            "13/13 [==============================] - 0s 4ms/step - loss: 8.8459e-04 - accuracy: 1.0000 - val_loss: 1.2623 - val_accuracy: 0.8571\n",
            "Epoch 46/100\n",
            "13/13 [==============================] - 0s 4ms/step - loss: 8.0519e-04 - accuracy: 1.0000 - val_loss: 1.3461 - val_accuracy: 0.8571\n",
            "Epoch 47/100\n",
            "13/13 [==============================] - 0s 4ms/step - loss: 7.5798e-04 - accuracy: 1.0000 - val_loss: 1.2525 - val_accuracy: 0.8571\n",
            "Epoch 48/100\n",
            "13/13 [==============================] - 0s 4ms/step - loss: 7.1916e-04 - accuracy: 1.0000 - val_loss: 1.3378 - val_accuracy: 0.8571\n",
            "Epoch 49/100\n",
            "13/13 [==============================] - 0s 4ms/step - loss: 5.6057e-04 - accuracy: 1.0000 - val_loss: 1.3401 - val_accuracy: 0.8571\n",
            "Epoch 50/100\n",
            "13/13 [==============================] - 0s 4ms/step - loss: 5.2355e-04 - accuracy: 1.0000 - val_loss: 1.3232 - val_accuracy: 0.8571\n",
            "Epoch 51/100\n",
            "13/13 [==============================] - 0s 4ms/step - loss: 5.3305e-04 - accuracy: 1.0000 - val_loss: 1.3063 - val_accuracy: 0.8571\n",
            "Epoch 52/100\n",
            "13/13 [==============================] - 0s 4ms/step - loss: 5.1845e-04 - accuracy: 1.0000 - val_loss: 1.3318 - val_accuracy: 0.8571\n",
            "Epoch 53/100\n",
            "13/13 [==============================] - 0s 3ms/step - loss: 5.0539e-04 - accuracy: 1.0000 - val_loss: 1.3402 - val_accuracy: 0.8571\n",
            "Epoch 54/100\n",
            "13/13 [==============================] - 0s 3ms/step - loss: 4.9883e-04 - accuracy: 1.0000 - val_loss: 1.3301 - val_accuracy: 0.8571\n",
            "Epoch 55/100\n",
            "13/13 [==============================] - 0s 4ms/step - loss: 5.0384e-04 - accuracy: 1.0000 - val_loss: 1.3371 - val_accuracy: 0.8571\n",
            "Epoch 56/100\n",
            "13/13 [==============================] - 0s 3ms/step - loss: 4.9623e-04 - accuracy: 1.0000 - val_loss: 1.3230 - val_accuracy: 0.8571\n",
            "Epoch 57/100\n",
            "13/13 [==============================] - 0s 3ms/step - loss: 5.0398e-04 - accuracy: 1.0000 - val_loss: 1.3914 - val_accuracy: 0.8571\n",
            "Epoch 58/100\n",
            "13/13 [==============================] - 0s 3ms/step - loss: 4.9221e-04 - accuracy: 1.0000 - val_loss: 1.3038 - val_accuracy: 0.8571\n",
            "Epoch 59/100\n",
            "13/13 [==============================] - 0s 3ms/step - loss: 5.0306e-04 - accuracy: 1.0000 - val_loss: 1.3363 - val_accuracy: 0.8571\n",
            "Epoch 60/100\n",
            "13/13 [==============================] - 0s 3ms/step - loss: 4.9090e-04 - accuracy: 1.0000 - val_loss: 1.3795 - val_accuracy: 0.8571\n",
            "Epoch 61/100\n",
            "13/13 [==============================] - 0s 3ms/step - loss: 4.7085e-04 - accuracy: 1.0000 - val_loss: 1.3277 - val_accuracy: 0.8571\n",
            "Epoch 62/100\n",
            "13/13 [==============================] - 0s 4ms/step - loss: 5.3338e-04 - accuracy: 1.0000 - val_loss: 1.4067 - val_accuracy: 0.8571\n",
            "Epoch 63/100\n",
            "13/13 [==============================] - 0s 3ms/step - loss: 4.7019e-04 - accuracy: 1.0000 - val_loss: 1.3087 - val_accuracy: 0.8571\n",
            "Epoch 64/100\n",
            "13/13 [==============================] - 0s 4ms/step - loss: 6.7407e-04 - accuracy: 1.0000 - val_loss: 1.1534 - val_accuracy: 0.8571\n",
            "Epoch 65/100\n",
            "13/13 [==============================] - 0s 4ms/step - loss: 6.3088e-04 - accuracy: 1.0000 - val_loss: 1.3718 - val_accuracy: 0.8571\n",
            "Epoch 66/100\n",
            "13/13 [==============================] - 0s 3ms/step - loss: 5.0010e-04 - accuracy: 1.0000 - val_loss: 1.2805 - val_accuracy: 0.8571\n",
            "Epoch 67/100\n",
            "13/13 [==============================] - 0s 4ms/step - loss: 4.5328e-04 - accuracy: 1.0000 - val_loss: 1.3330 - val_accuracy: 0.8571\n",
            "Epoch 68/100\n",
            "13/13 [==============================] - 0s 3ms/step - loss: 4.4617e-04 - accuracy: 1.0000 - val_loss: 1.3175 - val_accuracy: 0.8571\n",
            "Epoch 69/100\n",
            "13/13 [==============================] - 0s 4ms/step - loss: 3.9880e-04 - accuracy: 1.0000 - val_loss: 1.4116 - val_accuracy: 0.8571\n",
            "Epoch 70/100\n",
            "13/13 [==============================] - 0s 3ms/step - loss: 7.7950e-04 - accuracy: 1.0000 - val_loss: 1.1039 - val_accuracy: 0.8571\n",
            "Epoch 71/100\n",
            "13/13 [==============================] - 0s 3ms/step - loss: 6.7145e-04 - accuracy: 1.0000 - val_loss: 1.3884 - val_accuracy: 0.8571\n",
            "Epoch 72/100\n",
            "13/13 [==============================] - 0s 3ms/step - loss: 0.0010 - accuracy: 1.0000 - val_loss: 1.1233 - val_accuracy: 0.8571\n",
            "Epoch 73/100\n",
            "13/13 [==============================] - 0s 3ms/step - loss: 0.0011 - accuracy: 1.0000 - val_loss: 1.6207 - val_accuracy: 0.8571\n",
            "Epoch 74/100\n",
            "13/13 [==============================] - 0s 3ms/step - loss: 5.2310e-04 - accuracy: 1.0000 - val_loss: 1.3015 - val_accuracy: 0.8571\n",
            "Epoch 75/100\n",
            "13/13 [==============================] - 0s 3ms/step - loss: 6.5019e-04 - accuracy: 1.0000 - val_loss: 1.4647 - val_accuracy: 0.8571\n",
            "Epoch 76/100\n",
            "13/13 [==============================] - 0s 3ms/step - loss: 5.1916e-04 - accuracy: 1.0000 - val_loss: 1.2945 - val_accuracy: 0.8571\n",
            "Epoch 77/100\n",
            "13/13 [==============================] - 0s 3ms/step - loss: 4.3772e-04 - accuracy: 1.0000 - val_loss: 1.4021 - val_accuracy: 0.8571\n",
            "Epoch 78/100\n",
            "13/13 [==============================] - 0s 3ms/step - loss: 3.8654e-04 - accuracy: 1.0000 - val_loss: 1.3941 - val_accuracy: 0.8571\n",
            "Epoch 79/100\n",
            "13/13 [==============================] - 0s 3ms/step - loss: 3.7212e-04 - accuracy: 1.0000 - val_loss: 1.4028 - val_accuracy: 0.8571\n",
            "Epoch 80/100\n",
            "13/13 [==============================] - 0s 3ms/step - loss: 3.6658e-04 - accuracy: 1.0000 - val_loss: 1.3759 - val_accuracy: 0.8571\n",
            "Epoch 81/100\n",
            "13/13 [==============================] - 0s 3ms/step - loss: 3.7865e-04 - accuracy: 1.0000 - val_loss: 1.3443 - val_accuracy: 0.8571\n",
            "Epoch 82/100\n",
            "13/13 [==============================] - 0s 3ms/step - loss: 3.9464e-04 - accuracy: 1.0000 - val_loss: 1.4240 - val_accuracy: 0.8571\n",
            "Epoch 83/100\n",
            "13/13 [==============================] - 0s 3ms/step - loss: 3.7356e-04 - accuracy: 1.0000 - val_loss: 1.3912 - val_accuracy: 0.8571\n",
            "Epoch 84/100\n",
            "13/13 [==============================] - 0s 3ms/step - loss: 3.6112e-04 - accuracy: 1.0000 - val_loss: 1.3972 - val_accuracy: 0.8571\n",
            "Epoch 85/100\n",
            "13/13 [==============================] - 0s 3ms/step - loss: 4.4565e-04 - accuracy: 1.0000 - val_loss: 1.3982 - val_accuracy: 0.8571\n",
            "Epoch 86/100\n",
            "13/13 [==============================] - 0s 3ms/step - loss: 3.7988e-04 - accuracy: 1.0000 - val_loss: 1.4614 - val_accuracy: 0.8571\n",
            "Epoch 87/100\n",
            "13/13 [==============================] - 0s 4ms/step - loss: 3.4308e-04 - accuracy: 1.0000 - val_loss: 1.3699 - val_accuracy: 0.8571\n",
            "Epoch 88/100\n",
            "13/13 [==============================] - 0s 3ms/step - loss: 3.4768e-04 - accuracy: 1.0000 - val_loss: 1.4134 - val_accuracy: 0.8571\n",
            "Epoch 89/100\n",
            "13/13 [==============================] - 0s 3ms/step - loss: 3.5746e-04 - accuracy: 1.0000 - val_loss: 1.3820 - val_accuracy: 0.8571\n",
            "Epoch 90/100\n",
            "13/13 [==============================] - 0s 3ms/step - loss: 3.7790e-04 - accuracy: 1.0000 - val_loss: 1.4214 - val_accuracy: 0.8571\n",
            "Epoch 91/100\n",
            "13/13 [==============================] - 0s 3ms/step - loss: 3.5777e-04 - accuracy: 1.0000 - val_loss: 1.3771 - val_accuracy: 0.8571\n",
            "Epoch 92/100\n",
            "13/13 [==============================] - 0s 4ms/step - loss: 4.2306e-04 - accuracy: 1.0000 - val_loss: 1.3948 - val_accuracy: 0.8571\n",
            "Epoch 93/100\n",
            "13/13 [==============================] - 0s 3ms/step - loss: 2.9329e-04 - accuracy: 1.0000 - val_loss: 1.4627 - val_accuracy: 0.8571\n",
            "Epoch 94/100\n",
            "13/13 [==============================] - 0s 3ms/step - loss: 3.1935e-04 - accuracy: 1.0000 - val_loss: 1.3750 - val_accuracy: 0.8571\n",
            "Epoch 95/100\n",
            "13/13 [==============================] - 0s 3ms/step - loss: 3.4855e-04 - accuracy: 1.0000 - val_loss: 1.4433 - val_accuracy: 0.8571\n",
            "Epoch 96/100\n",
            "13/13 [==============================] - 0s 3ms/step - loss: 3.4690e-04 - accuracy: 1.0000 - val_loss: 1.4285 - val_accuracy: 0.8571\n",
            "Epoch 97/100\n",
            "13/13 [==============================] - 0s 3ms/step - loss: 3.1024e-04 - accuracy: 1.0000 - val_loss: 1.4285 - val_accuracy: 0.8571\n",
            "Epoch 98/100\n",
            "13/13 [==============================] - 0s 4ms/step - loss: 3.3543e-04 - accuracy: 1.0000 - val_loss: 1.4377 - val_accuracy: 0.8571\n",
            "Epoch 99/100\n",
            "13/13 [==============================] - 0s 3ms/step - loss: 3.3858e-04 - accuracy: 1.0000 - val_loss: 1.4440 - val_accuracy: 0.8571\n",
            "Epoch 100/100\n",
            "13/13 [==============================] - 0s 4ms/step - loss: 3.1653e-04 - accuracy: 1.0000 - val_loss: 1.3798 - val_accuracy: 0.8571\n"
          ],
          "name": "stdout"
        },
        {
          "output_type": "execute_result",
          "data": {
            "text/plain": [
              "<tensorflow.python.keras.callbacks.History at 0x7ff574762128>"
            ]
          },
          "metadata": {
            "tags": []
          },
          "execution_count": 23
        }
      ]
    },
    {
      "cell_type": "code",
      "metadata": {
        "id": "0kpKbrdM4Ar8",
        "colab_type": "code",
        "outputId": "c8c5beaf-c0d9-4dc2-fa9b-f1033e3dc303",
        "colab": {
          "base_uri": "https://localhost:8080/",
          "height": 52
        }
      },
      "source": [
        "model.evaluate(test_ds)"
      ],
      "execution_count": 0,
      "outputs": [
        {
          "output_type": "stream",
          "text": [
            "2/2 [==============================] - 0s 4ms/step - loss: 0.2379 - accuracy: 0.9333\n"
          ],
          "name": "stdout"
        },
        {
          "output_type": "execute_result",
          "data": {
            "text/plain": [
              "[0.23790750186890364, 0.93333334]"
            ]
          },
          "metadata": {
            "tags": []
          },
          "execution_count": 24
        }
      ]
    }
  ]
}