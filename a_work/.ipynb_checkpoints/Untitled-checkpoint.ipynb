{
 "cells": [
  {
   "cell_type": "code",
   "execution_count": 2,
   "metadata": {},
   "outputs": [
    {
     "name": "stdin",
     "output_type": "stream",
     "text": [
      " 1\n",
      " hi mi\n",
      " hi\n"
     ]
    },
    {
     "name": "stdout",
     "output_type": "stream",
     "text": [
      "mi\n",
      "mi\n"
     ]
    }
   ],
   "source": [
    "dic = {}\n",
    "num = int(input())\n",
    "for i in range(num):\n",
    "    key,val = input().split()\n",
    "    dic[key] = val\n",
    "    dic[val] = key\n",
    "\n",
    "#LookUp\n",
    "search = input()\n",
    "\n",
    "print (dic.get(search))\n",
    "\n",
    "for key2,val2 in dic.items():\n",
    "    if search == key2:\n",
    "        print(val2)\n",
    "        break;\n",
    "    if search == val2:\n",
    "        print(key2)\n",
    "        break;"
   ]
  },
  {
   "cell_type": "code",
   "execution_count": 3,
   "metadata": {},
   "outputs": [
    {
     "data": {
      "text/plain": [
       "[0, 1, 4, 9, 16, 25, 36, 49, 64, 81]"
      ]
     },
     "execution_count": 3,
     "metadata": {},
     "output_type": "execute_result"
    }
   ],
   "source": [
    "[(lambda x: x*x)(x) for x in range(10)]"
   ]
  },
  {
   "cell_type": "code",
   "execution_count": 4,
   "metadata": {},
   "outputs": [
    {
     "data": {
      "text/plain": [
       "[0, 1, 4, 9, 16, 25, 36, 49, 64, 81]"
      ]
     },
     "execution_count": 4,
     "metadata": {},
     "output_type": "execute_result"
    }
   ],
   "source": [
    "[x*x for x in range(10)]\n"
   ]
  },
  {
   "cell_type": "code",
   "execution_count": 61,
   "metadata": {},
   "outputs": [],
   "source": [
    "lines = open('Iris.csv').read().splitlines()\n"
   ]
  },
  {
   "cell_type": "code",
   "execution_count": 62,
   "metadata": {},
   "outputs": [],
   "source": [
    "data = []\n",
    "for idx in range(len(lines)):\n",
    "    if idx == 0:\n",
    "        header = lines[idx].strip().split(',')\n",
    "    else:\n",
    "        data.append(lines[idx].strip().split(','))    "
   ]
  },
  {
   "cell_type": "code",
   "execution_count": 63,
   "metadata": {},
   "outputs": [
    {
     "data": {
      "text/plain": [
       "['Id',\n",
       " 'SepalLengthCm',\n",
       " 'SepalWidthCm',\n",
       " 'PetalLengthCm',\n",
       " 'PetalWidthCm',\n",
       " 'Species']"
      ]
     },
     "execution_count": 63,
     "metadata": {},
     "output_type": "execute_result"
    }
   ],
   "source": [
    "header"
   ]
  },
  {
   "cell_type": "code",
   "execution_count": 64,
   "metadata": {},
   "outputs": [
    {
     "data": {
      "text/plain": [
       "[['1', '5.1', '3.5', '1.4', '0.2', 'Iris-setosa'],\n",
       " ['2', '4.9', '3.0', '1.4', '0.2', 'Iris-setosa'],\n",
       " ['3', '4.7', '3.2', '1.3', '0.2', 'Iris-setosa'],\n",
       " ['4', '4.6', '3.1', '1.5', '0.2', 'Iris-setosa'],\n",
       " ['5', '5.0', '3.6', '1.4', '0.2', 'Iris-setosa'],\n",
       " ['6', '5.4', '3.9', '1.7', '0.4', 'Iris-setosa'],\n",
       " ['7', '4.6', '3.4', '1.4', '0.3', 'Iris-setosa'],\n",
       " ['8', '5.0', '3.4', '1.5', '0.2', 'Iris-setosa'],\n",
       " ['9', '4.4', '2.9', '1.4', '0.2', 'Iris-setosa'],\n",
       " ['10', '4.9', '3.1', '1.5', '0.1', 'Iris-setosa']]"
      ]
     },
     "execution_count": 64,
     "metadata": {},
     "output_type": "execute_result"
    }
   ],
   "source": [
    "data[:10]"
   ]
  },
  {
   "cell_type": "code",
   "execution_count": 72,
   "metadata": {},
   "outputs": [],
   "source": [
    "X = [[ float(n) for n in data[idx][:-1]]  for idx in range(len(data))] "
   ]
  },
  {
   "cell_type": "code",
   "execution_count": 73,
   "metadata": {},
   "outputs": [
    {
     "data": {
      "text/plain": [
       "[[1.0, 5.1, 3.5, 1.4, 0.2],\n",
       " [2.0, 4.9, 3.0, 1.4, 0.2],\n",
       " [3.0, 4.7, 3.2, 1.3, 0.2],\n",
       " [4.0, 4.6, 3.1, 1.5, 0.2],\n",
       " [5.0, 5.0, 3.6, 1.4, 0.2],\n",
       " [6.0, 5.4, 3.9, 1.7, 0.4],\n",
       " [7.0, 4.6, 3.4, 1.4, 0.3],\n",
       " [8.0, 5.0, 3.4, 1.5, 0.2],\n",
       " [9.0, 4.4, 2.9, 1.4, 0.2],\n",
       " [10.0, 4.9, 3.1, 1.5, 0.1]]"
      ]
     },
     "execution_count": 73,
     "metadata": {},
     "output_type": "execute_result"
    }
   ],
   "source": [
    "X[:10]"
   ]
  },
  {
   "cell_type": "code",
   "execution_count": 74,
   "metadata": {},
   "outputs": [],
   "source": [
    "y = [data[idx][-1] for idx in range(len(data))]"
   ]
  },
  {
   "cell_type": "code",
   "execution_count": 75,
   "metadata": {},
   "outputs": [
    {
     "data": {
      "text/plain": [
       "['Iris-setosa',\n",
       " 'Iris-setosa',\n",
       " 'Iris-setosa',\n",
       " 'Iris-setosa',\n",
       " 'Iris-setosa',\n",
       " 'Iris-setosa',\n",
       " 'Iris-setosa',\n",
       " 'Iris-setosa',\n",
       " 'Iris-setosa',\n",
       " 'Iris-setosa']"
      ]
     },
     "execution_count": 75,
     "metadata": {},
     "output_type": "execute_result"
    }
   ],
   "source": [
    "y[:10]"
   ]
  },
  {
   "cell_type": "code",
   "execution_count": 81,
   "metadata": {},
   "outputs": [],
   "source": [
    "X = [data[idx][:-1]  for idx in range(len(data))] \n",
    "file_writer = open('x_iris.csv',mode='w')\n",
    "file_writer.write(', '.join(header[:-1])+ '\\n')\n",
    "for line in X:\n",
    "    file_writer.write(', '.join(line)+ '\\n')\n",
    "file_writer.close()"
   ]
  },
  {
   "cell_type": "code",
   "execution_count": 82,
   "metadata": {},
   "outputs": [],
   "source": [
    "file_writer = open('y_iris.csv',mode='w')\n",
    "for line in y:\n",
    "    file_writer.write(line + '\\n')\n",
    "file_writer.close()"
   ]
  },
  {
   "cell_type": "code",
   "execution_count": null,
   "metadata": {},
   "outputs": [],
   "source": []
  }
 ],
 "metadata": {
  "kernelspec": {
   "display_name": "Python 3",
   "language": "python",
   "name": "python3"
  },
  "language_info": {
   "codemirror_mode": {
    "name": "ipython",
    "version": 3
   },
   "file_extension": ".py",
   "mimetype": "text/x-python",
   "name": "python",
   "nbconvert_exporter": "python",
   "pygments_lexer": "ipython3",
   "version": "3.7.3"
  }
 },
 "nbformat": 4,
 "nbformat_minor": 4
}
