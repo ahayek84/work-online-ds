{
 "cells": [
  {
   "cell_type": "code",
   "execution_count": 107,
   "metadata": {},
   "outputs": [],
   "source": [
    "#!pip install names"
   ]
  },
  {
   "cell_type": "code",
   "execution_count": 121,
   "metadata": {},
   "outputs": [],
   "source": [
    "import random\n",
    "import string\n",
    "import names\n",
    "\n",
    "class student:\n",
    "    def __init__(self, id = 0, name = 'name', gender = 'male'):\n",
    "        \n",
    "        self.gender = gender\n",
    "        \n",
    "        if id == 0:\n",
    "            self.id = self.generate_id()\n",
    "        else:\n",
    "            self.id = id\n",
    "        \n",
    "        if  name == 'name':\n",
    "            self.name = names.get_first_name(gender=self.gender)\n",
    "        else:\n",
    "            self.name = name\n",
    "            \n",
    "        self._weight = self.calc_weight()\n",
    "        self.__password = self.randomString(8)\n",
    "    \n",
    "    def __str__(self):\n",
    "        return 'id : {} and name : {} and weight : {} kg and password = {} and gender = {}'.format(self.id,self.name,self._weight, self.__password,self.gender)\n",
    "    \n",
    "    def calc_weight(self):\n",
    "        return random.randint(10,99)\n",
    "    \n",
    "    def randomString(self,stringLength):\n",
    "        letters = string.ascii_letters\n",
    "        return ''.join(random.choice(letters) for i in range(stringLength))\n",
    "    \n",
    "    def generate_id(self):\n",
    "        return int('12019' + ''.join(random.randint(1,9).__str__() for i in range(4)))\n",
    "        "
   ]
  },
  {
   "cell_type": "code",
   "execution_count": 126,
   "metadata": {},
   "outputs": [
    {
     "name": "stdout",
     "output_type": "stream",
     "text": [
      "id : 120197267 and name : Robert and weight : 16 kg and password = PvVbGFAN and gender = male\n",
      "id : 120191218 and name : Cheryl and weight : 66 kg and password = gQlfghBd and gender = female\n",
      "id : 120197587 and name : James and weight : 85 kg and password = oGjkOfHG and gender = male\n",
      "id : 120199974 and name : Mandy and weight : 88 kg and password = wgiuogfi and gender = female\n",
      "id : 120194776 and name : Sean and weight : 18 kg and password = lkxvNHmt and gender = male\n",
      "id : 120191751 and name : Bertha and weight : 85 kg and password = enVUkRdQ and gender = female\n",
      "id : 120199566 and name : Thelma and weight : 50 kg and password = TXncFLto and gender = female\n",
      "id : 120194618 and name : Elizabeth and weight : 37 kg and password = saSEOAOA and gender = female\n",
      "id : 120194356 and name : Maribel and weight : 63 kg and password = zVIXDkdJ and gender = female\n",
      "id : 120193587 and name : Jack and weight : 57 kg and password = jSeWcShb and gender = male\n"
     ]
    }
   ],
   "source": [
    "gender = ['male','female']\n",
    "for i in range (10):\n",
    "    std = student(0, 'name', gender[random.randint(0,1)]) \n",
    "    std.__password = 100\n",
    "    print(std)"
   ]
  },
  {
   "cell_type": "markdown",
   "metadata": {},
   "source": [
    "## Inherehtance "
   ]
  },
  {
   "cell_type": "code",
   "execution_count": 9,
   "metadata": {},
   "outputs": [],
   "source": [
    "class Person:\n",
    "    def __init__(self):\n",
    "        self.id = 10\n",
    "\n",
    "        \n",
    "class Employee(Person):\n",
    "    \n",
    "    def __init__(self, dept = 10):\n",
    "        super(Person,self).__init__()\n",
    "        self.__depto = 10\n",
    "        \n",
    "    @property\n",
    "    def dept(self):\n",
    "        return self.__depto\n",
    "    \n",
    "    @dept.setter\n",
    "    def dept(self,dept):\n",
    "        if dept > 50:\n",
    "            self.__depto = dept\n",
    "        else:\n",
    "            self.__depto = dept * 100\n",
    "        \n",
    "    @dept.getter    \n",
    "    def dept(self):\n",
    "        return self.__depto\n",
    "    "
   ]
  },
  {
   "cell_type": "code",
   "execution_count": 11,
   "metadata": {},
   "outputs": [
    {
     "data": {
      "text/plain": [
       "51"
      ]
     },
     "execution_count": 11,
     "metadata": {},
     "output_type": "execute_result"
    }
   ],
   "source": [
    "emp = Employee()\n",
    "emp.dept = 51\n",
    "emp.dept"
   ]
  },
  {
   "cell_type": "code",
   "execution_count": 11,
   "metadata": {},
   "outputs": [
    {
     "name": "stdout",
     "output_type": "stream",
     "text": [
      "Jaki\n",
      "25\n",
      "Jaki obtained 25 marks\n",
      "##################\n"
     ]
    }
   ],
   "source": [
    "class Student:\n",
    "    def __init__(self, name, marks):\n",
    "        self.name = name\n",
    "        self.marks = marks\n",
    "        # self.gotmarks = self.name + ' obtained ' + self.marks + ' marks'\n",
    "\n",
    "    @property\n",
    "    def gotmarks(self):\n",
    "        return self.name + ' obtained ' + self.marks + ' marks'\n",
    "\n",
    "    @gotmarks.setter\n",
    "    def gotmarks(self, sentence):\n",
    "        name, rand, marks = sentence.split(' ')\n",
    "        self.name = name\n",
    "        self.marks = marks\n",
    "\n",
    "\n",
    "st = Student(\"Jaki\", \"25\")\n",
    "print(st.name)\n",
    "print(st.marks)\n",
    "print(st.gotmarks)\n",
    "print(\"##################\")"
   ]
  },
  {
   "cell_type": "code",
   "execution_count": 16,
   "metadata": {},
   "outputs": [
    {
     "ename": "SyntaxError",
     "evalue": "Missing parentheses in call to 'print'. Did you mean print('getting')? (<ipython-input-16-8f47e2286e27>, line 7)",
     "output_type": "error",
     "traceback": [
      "\u001b[1;36m  File \u001b[1;32m\"<ipython-input-16-8f47e2286e27>\"\u001b[1;36m, line \u001b[1;32m7\u001b[0m\n\u001b[1;33m    print 'getting'\u001b[0m\n\u001b[1;37m                  ^\u001b[0m\n\u001b[1;31mSyntaxError\u001b[0m\u001b[1;31m:\u001b[0m Missing parentheses in call to 'print'. Did you mean print('getting')?\n"
     ]
    }
   ],
   "source": []
  },
  {
   "cell_type": "code",
   "execution_count": null,
   "metadata": {},
   "outputs": [],
   "source": []
  }
 ],
 "metadata": {
  "kernelspec": {
   "display_name": "Python 3",
   "language": "python",
   "name": "python3"
  },
  "language_info": {
   "codemirror_mode": {
    "name": "ipython",
    "version": 3
   },
   "file_extension": ".py",
   "mimetype": "text/x-python",
   "name": "python",
   "nbconvert_exporter": "python",
   "pygments_lexer": "ipython3",
   "version": "3.7.3"
  }
 },
 "nbformat": 4,
 "nbformat_minor": 4
}
