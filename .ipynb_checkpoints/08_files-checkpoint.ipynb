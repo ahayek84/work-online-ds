{
 "cells": [
  {
   "cell_type": "markdown",
   "metadata": {},
   "source": [
    "# Files \n",
    "\n",
    "\n",
    "two ways to handle files \n",
    "\n",
    "1. read file line by line (suitable for very large files) (slower) \n",
    "2. read the whole file (suitable for small / meduim files) (faster) \n",
    "\n"
   ]
  },
  {
   "cell_type": "markdown",
   "metadata": {},
   "source": [
    "## read line by line "
   ]
  },
  {
   "cell_type": "code",
   "execution_count": 12,
   "metadata": {},
   "outputs": [
    {
     "name": "stdout",
     "output_type": "stream",
     "text": [
      "[[5.1, 3.5, 1.4, 0.2], [4.9, 3.0, 1.4, 0.2], [4.7, 3.2, 1.3, 0.2], [4.6, 3.1, 1.5, 0.2], [5.0, 3.6, 1.4, 0.2], [5.4, 3.9, 1.7, 0.4], [4.6, 3.4, 1.4, 0.3], [5.0, 3.4, 1.5, 0.2], [4.4, 2.9, 1.4, 0.2], [4.9, 3.1, 1.5, 0.1]]\n",
      "['Iris-setosa', 'Iris-setosa', 'Iris-setosa', 'Iris-setosa', 'Iris-setosa', 'Iris-setosa', 'Iris-setosa', 'Iris-setosa', 'Iris-setosa', 'Iris-setosa']\n"
     ]
    }
   ],
   "source": [
    "file_handl = open('./IRIS.csv', mode='r')\n",
    "X = []\n",
    "y = []\n",
    "for line in file_handl:\n",
    "    clean_line = line.strip()\n",
    "    if clean_line.startswith('#'):\n",
    "        continue \n",
    "    data = clean_line.split(',')\n",
    "#     X = [ float(n) for n in data[:-1] if float(n) > 0.3]\n",
    "    X.append([ float(n) for n in data[:-1]])\n",
    "    y.append(data[-1])\n",
    "file_handl.close()\n",
    "print(X[:10])\n",
    "print(y[:10])"
   ]
  },
  {
   "cell_type": "code",
   "execution_count": 14,
   "metadata": {},
   "outputs": [
    {
     "name": "stdout",
     "output_type": "stream",
     "text": [
      "[[5.1, 3.5, 1.4, 0.2], [4.9, 3.0, 1.4, 0.2], [4.7, 3.2, 1.3, 0.2], [4.6, 3.1, 1.5, 0.2], [5.0, 3.6, 1.4, 0.2], [5.4, 3.9, 1.7, 0.4], [4.6, 3.4, 1.4, 0.3], [5.0, 3.4, 1.5, 0.2], [4.4, 2.9, 1.4, 0.2], [4.9, 3.1, 1.5, 0.1]]\n",
      "['Iris-setosa', 'Iris-setosa', 'Iris-setosa', 'Iris-setosa', 'Iris-setosa', 'Iris-setosa', 'Iris-setosa', 'Iris-setosa', 'Iris-setosa', 'Iris-setosa']\n"
     ]
    }
   ],
   "source": [
    "X = []\n",
    "y = []\n",
    "with open('./IRIS.csv', mode='r') as file_handl:\n",
    "    for line in file_handl:\n",
    "        clean_line = line.strip()\n",
    "        if clean_line.startswith('#'):\n",
    "            continue \n",
    "        data = clean_line.split(',')\n",
    "        X.append([ float(n) for n in data[:-1]])\n",
    "        y.append(data[-1])\n",
    "print(X[:10])\n",
    "print(y[:10])"
   ]
  },
  {
   "cell_type": "markdown",
   "metadata": {},
   "source": [
    "# read the whole file "
   ]
  },
  {
   "cell_type": "code",
   "execution_count": 15,
   "metadata": {},
   "outputs": [
    {
     "data": {
      "text/plain": [
       "['# sepal_length,sepal_width,petal_length,petal_width,species',\n",
       " '5.1,3.5,1.4,0.2,Iris-setosa',\n",
       " '4.9,3,1.4,0.2,Iris-setosa',\n",
       " '4.7,3.2,1.3,0.2,Iris-setosa']"
      ]
     },
     "execution_count": 15,
     "metadata": {},
     "output_type": "execute_result"
    }
   ],
   "source": [
    "lines = open('./IRIS.csv').read().split('\\n')\n",
    "lines[:4]\n"
   ]
  },
  {
   "cell_type": "code",
   "execution_count": 19,
   "metadata": {},
   "outputs": [
    {
     "name": "stdout",
     "output_type": "stream",
     "text": [
      "done\n"
     ]
    }
   ],
   "source": [
    "file_writer = open('X_iris.csv', mode='w')\n",
    "for line in lines:\n",
    "    clean_line = line.strip()\n",
    "    data = clean_line.split(',')[:-1]\n",
    "#     print(';'.join(data))\n",
    "    file_writer.write(';'.join(data) + '\\n')\n",
    "file_writer.close()\n",
    "print('done')"
   ]
  },
  {
   "cell_type": "code",
   "execution_count": null,
   "metadata": {},
   "outputs": [],
   "source": []
  }
 ],
 "metadata": {
  "kernelspec": {
   "display_name": "Python 3",
   "language": "python",
   "name": "python3"
  },
  "language_info": {
   "codemirror_mode": {
    "name": "ipython",
    "version": 3
   },
   "file_extension": ".py",
   "mimetype": "text/x-python",
   "name": "python",
   "nbconvert_exporter": "python",
   "pygments_lexer": "ipython3",
   "version": "3.7.0"
  }
 },
 "nbformat": 4,
 "nbformat_minor": 2
}
