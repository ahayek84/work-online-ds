{
 "cells": [
  {
   "cell_type": "markdown",
   "metadata": {},
   "source": [
    "# OOP programming with Python "
   ]
  },
  {
   "cell_type": "code",
   "execution_count": 1,
   "metadata": {},
   "outputs": [],
   "source": [
    "class A:\n",
    "    pass "
   ]
  },
  {
   "cell_type": "code",
   "execution_count": 2,
   "metadata": {},
   "outputs": [],
   "source": [
    "a = A()"
   ]
  },
  {
   "cell_type": "code",
   "execution_count": 13,
   "metadata": {},
   "outputs": [],
   "source": [
    "class Rectangle:\n",
    "    def __init__(self):\n",
    "        self.hight = 1 # member attribute \n",
    "        self.width = 2 # member attribute \n",
    "        x = 10 # local variable "
   ]
  },
  {
   "cell_type": "code",
   "execution_count": 14,
   "metadata": {},
   "outputs": [],
   "source": [
    "r = Rectangle()"
   ]
  },
  {
   "cell_type": "code",
   "execution_count": 15,
   "metadata": {},
   "outputs": [
    {
     "data": {
      "text/plain": [
       "<__main__.Rectangle at 0x1e093bd0048>"
      ]
     },
     "execution_count": 15,
     "metadata": {},
     "output_type": "execute_result"
    }
   ],
   "source": [
    "r"
   ]
  },
  {
   "cell_type": "code",
   "execution_count": 16,
   "metadata": {},
   "outputs": [
    {
     "name": "stdout",
     "output_type": "stream",
     "text": [
      "<__main__.Rectangle object at 0x000001E093BD0048>\n"
     ]
    }
   ],
   "source": [
    "print(r)"
   ]
  },
  {
   "cell_type": "code",
   "execution_count": 17,
   "metadata": {},
   "outputs": [
    {
     "data": {
      "text/plain": [
       "__main__.Rectangle"
      ]
     },
     "execution_count": 17,
     "metadata": {},
     "output_type": "execute_result"
    }
   ],
   "source": [
    "type(r)"
   ]
  },
  {
   "cell_type": "code",
   "execution_count": 18,
   "metadata": {},
   "outputs": [],
   "source": [
    "class Rectangle:\n",
    "    def __init__(self):\n",
    "        self.hight = 1 # member attribute \n",
    "        self.width = 2 # member attribute \n",
    "        x = 10 # local variable \n",
    "    def __str__(self):\n",
    "        return 'hight:{} width:{}'.format(self.hight, self.width)"
   ]
  },
  {
   "cell_type": "code",
   "execution_count": 19,
   "metadata": {},
   "outputs": [
    {
     "name": "stdout",
     "output_type": "stream",
     "text": [
      "hight:1 width:2\n"
     ]
    }
   ],
   "source": [
    "r = Rectangle()\n",
    "print(r)"
   ]
  },
  {
   "cell_type": "code",
   "execution_count": 20,
   "metadata": {},
   "outputs": [],
   "source": [
    "class Rectangle:\n",
    "    def __init__(self):\n",
    "        self.hight = 1 # member attribute \n",
    "        self.width = 2 # member attribute \n",
    "        x = 10 # local variable \n",
    "    def __str__(self):\n",
    "        return 'hight:{} width:{}'.format(self.hight, self.width)\n",
    "    \n",
    "    def area(self):\n",
    "        return self.hight * self.width \n",
    "    def perimeter(self):\n",
    "        return 2 * (self.hight + self.width)\n"
   ]
  },
  {
   "cell_type": "code",
   "execution_count": 21,
   "metadata": {},
   "outputs": [
    {
     "name": "stdout",
     "output_type": "stream",
     "text": [
      "hight:1 width:2\n",
      "area: 2\n",
      "perimeter: 6\n"
     ]
    }
   ],
   "source": [
    "r = Rectangle()\n",
    "print(r)\n",
    "print('area:', r.area())\n",
    "print('perimeter:', r.perimeter())"
   ]
  },
  {
   "cell_type": "code",
   "execution_count": 22,
   "metadata": {},
   "outputs": [
    {
     "name": "stdout",
     "output_type": "stream",
     "text": [
      "hight:6 width:2\n",
      "perimeter: 16\n"
     ]
    }
   ],
   "source": [
    "r.hight = 6\n",
    "print(r)\n",
    "print('perimeter:', r.perimeter())"
   ]
  },
  {
   "cell_type": "code",
   "execution_count": 23,
   "metadata": {},
   "outputs": [],
   "source": [
    "class Rectangle:\n",
    "    def __init__(self, hight=1, width=2):\n",
    "        self.hight = hight # member attribute \n",
    "        self.width = width # member attribute \n",
    "        x = 10 # local variable \n",
    "    def __str__(self):\n",
    "        return 'hight:{} width:{}'.format(self.hight, self.width)\n",
    "    \n",
    "    def area(self):\n",
    "        return self.hight * self.width \n",
    "    def perimeter(self):\n",
    "        return 2 * (self.hight + self.width)\n"
   ]
  },
  {
   "cell_type": "code",
   "execution_count": 24,
   "metadata": {},
   "outputs": [
    {
     "name": "stdout",
     "output_type": "stream",
     "text": [
      "hight:1 width:2\n",
      "hight:3 width:5\n"
     ]
    }
   ],
   "source": [
    "r1 = Rectangle()\n",
    "print(r1)\n",
    "r2 = Rectangle(hight=3, width=5)\n",
    "print(r2)"
   ]
  },
  {
   "cell_type": "code",
   "execution_count": 25,
   "metadata": {},
   "outputs": [
    {
     "name": "stdout",
     "output_type": "stream",
     "text": [
      "hight:3 width:5\n"
     ]
    }
   ],
   "source": [
    "r3 = Rectangle(width=5, hight=3)\n",
    "print(r3)"
   ]
  },
  {
   "cell_type": "code",
   "execution_count": 26,
   "metadata": {},
   "outputs": [
    {
     "name": "stdout",
     "output_type": "stream",
     "text": [
      "hight:5 width:3\n"
     ]
    }
   ],
   "source": [
    "r4 = Rectangle(5, 3)\n",
    "print(r4)"
   ]
  },
  {
   "cell_type": "code",
   "execution_count": 27,
   "metadata": {},
   "outputs": [],
   "source": [
    "class Rectangle:\n",
    "    def __init__(self, hight=1, width=2):\n",
    "        self.hight = hight # member attribute \n",
    "        self.width = width # member attribute \n",
    "        x = 10 # local variable \n",
    "    def __str__(self):\n",
    "        return 'hight:{} width:{}'.format(self.hight, self.width)\n",
    "    \n",
    "    def area(self):\n",
    "        return self.hight * self.width \n",
    "    def perimeter(self):\n",
    "        return 2 * (self.hight + self.width)\n",
    "    \n",
    "    def inrease_hight(self, by=1):\n",
    "        self.hight += by \n"
   ]
  },
  {
   "cell_type": "code",
   "execution_count": 28,
   "metadata": {},
   "outputs": [
    {
     "name": "stdout",
     "output_type": "stream",
     "text": [
      "hight:1 width:2\n"
     ]
    }
   ],
   "source": [
    "r = Rectangle()\n",
    "print(r)"
   ]
  },
  {
   "cell_type": "code",
   "execution_count": 29,
   "metadata": {},
   "outputs": [
    {
     "name": "stdout",
     "output_type": "stream",
     "text": [
      "hight:2 width:2\n"
     ]
    }
   ],
   "source": [
    "r.inrease_hight()\n",
    "print(r)"
   ]
  },
  {
   "cell_type": "code",
   "execution_count": 31,
   "metadata": {},
   "outputs": [
    {
     "name": "stdout",
     "output_type": "stream",
     "text": [
      "hight:8 width:2\n"
     ]
    }
   ],
   "source": [
    "r.inrease_hight(3)\n",
    "print(r)"
   ]
  },
  {
   "cell_type": "code",
   "execution_count": 32,
   "metadata": {},
   "outputs": [
    {
     "name": "stdout",
     "output_type": "stream",
     "text": [
      "hight:10 width:2\n"
     ]
    }
   ],
   "source": [
    "r.inrease_hight(2)\n",
    "print(r)"
   ]
  },
  {
   "cell_type": "code",
   "execution_count": null,
   "metadata": {},
   "outputs": [],
   "source": [
    "# utitly function \n",
    "def compute_rec_area(h, w):\n",
    "    return h * w  "
   ]
  },
  {
   "cell_type": "code",
   "execution_count": 35,
   "metadata": {},
   "outputs": [],
   "source": [
    "class Rectangle:\n",
    "    def __init__(self, hight=1, width=2):\n",
    "        self.hight = hight # member attribute \n",
    "        self.width = width # member attribute \n",
    "        self.color = 'white'\n",
    "        x = 10 # local variable \n",
    "    def __str__(self):\n",
    "        return 'hight:{} width:{} color:{}'.format(self.hight, \n",
    "                                          self.width, \n",
    "                                         self.color)\n",
    "    \n",
    "    def area(self):\n",
    "        return self.hight * self.width \n",
    "    def perimeter(self):\n",
    "        return 2 * (self.hight + self.width)\n",
    "    \n",
    "    def inrease_hight(self, by=1):\n",
    "        self.hight += by \n",
    "    def set_color(self, color):\n",
    "        self.color = color \n",
    "        return self.area()\n"
   ]
  },
  {
   "cell_type": "code",
   "execution_count": 36,
   "metadata": {},
   "outputs": [
    {
     "name": "stdout",
     "output_type": "stream",
     "text": [
      "hight:1 width:2 color:white\n",
      "2\n",
      "hight:1 width:2 color:red\n"
     ]
    }
   ],
   "source": [
    "r = Rectangle()\n",
    "print(r)\n",
    "print(r.set_color('red'))\n",
    "print(r)"
   ]
  },
  {
   "cell_type": "markdown",
   "metadata": {},
   "source": [
    "# Public, protected, private members\n"
   ]
  },
  {
   "cell_type": "code",
   "execution_count": 50,
   "metadata": {},
   "outputs": [],
   "source": [
    "class Rectangle:\n",
    "    def __init__(self, hight=1, width=2):\n",
    "        self.hight = hight # public attribute \n",
    "        self._width = width # protected attribute \n",
    "        self.__color = 'white' # private memeber \n",
    "    def set_color(self, color):\n",
    "        self.__color = color\n",
    "    def set_width(self, width):\n",
    "        if width > 0:\n",
    "            self._width = width\n",
    "    def get_with(self):\n",
    "        return self._width\n",
    "    def __str__(self):\n",
    "        return 'hight:{} width:{} color:{}'.format(self.hight, \n",
    "                                          self._width, \n",
    "                                         self.__color)"
   ]
  },
  {
   "cell_type": "markdown",
   "metadata": {},
   "source": [
    "# why? "
   ]
  },
  {
   "cell_type": "code",
   "execution_count": 51,
   "metadata": {},
   "outputs": [
    {
     "name": "stdout",
     "output_type": "stream",
     "text": [
      "hight:1 width:2 color:white\n",
      "hight:10 width:2 color:red\n"
     ]
    }
   ],
   "source": [
    "r = Rectangle()\n",
    "print(r)\n",
    "r.hight = 10 \n",
    "r.set_color('red')\n",
    "print(r)"
   ]
  },
  {
   "cell_type": "code",
   "execution_count": 52,
   "metadata": {},
   "outputs": [
    {
     "name": "stdout",
     "output_type": "stream",
     "text": [
      "hight:1 width:2 color:white\n"
     ]
    }
   ],
   "source": [
    "r = Rectangle()\n",
    "print(r)"
   ]
  },
  {
   "cell_type": "code",
   "execution_count": 53,
   "metadata": {},
   "outputs": [
    {
     "name": "stdout",
     "output_type": "stream",
     "text": [
      "hight:10 width:2 color:white\n"
     ]
    }
   ],
   "source": [
    "r.hight = 10\n",
    "print(r)"
   ]
  },
  {
   "cell_type": "code",
   "execution_count": 55,
   "metadata": {},
   "outputs": [],
   "source": [
    "r.width =20 "
   ]
  },
  {
   "cell_type": "code",
   "execution_count": 56,
   "metadata": {},
   "outputs": [
    {
     "name": "stdout",
     "output_type": "stream",
     "text": [
      "hight:10 width:2 color:white\n"
     ]
    }
   ],
   "source": [
    "print(r)"
   ]
  },
  {
   "cell_type": "code",
   "execution_count": 57,
   "metadata": {},
   "outputs": [
    {
     "name": "stdout",
     "output_type": "stream",
     "text": [
      "hight:10 width:20 color:white\n"
     ]
    }
   ],
   "source": [
    "r.set_width(20)\n",
    "print(r)"
   ]
  },
  {
   "cell_type": "markdown",
   "metadata": {},
   "source": [
    "# Property "
   ]
  },
  {
   "cell_type": "code",
   "execution_count": 95,
   "metadata": {},
   "outputs": [],
   "source": [
    "class Person:\n",
    "    def __init__(self, name='', tel=''):\n",
    "        self.__name = name \n",
    "        self.__tel = tel\n",
    "    def set_name(self, name):\n",
    "        self.__name=name\n",
    "    def get_name(self):\n",
    "        return self.__name\n",
    "    name=property(get_name, set_name)\n",
    "    def set_tel(self, tel):\n",
    "        if tel.startswith('05'):\n",
    "            self.__tel = tel \n",
    "    def get_tel(self):\n",
    "        return self.__tel \n",
    "    tel=property(get_tel, set_tel)\n",
    "    def __str__(self):\n",
    "        return 'name: {} tel: {}'.format(self.__name, \n",
    "                                        self.__tel)"
   ]
  },
  {
   "cell_type": "code",
   "execution_count": 96,
   "metadata": {},
   "outputs": [
    {
     "name": "stdout",
     "output_type": "stream",
     "text": [
      "name: Ahmed tel: \n"
     ]
    }
   ],
   "source": [
    "p = Person(name='Ahmed')\n",
    "print(p)"
   ]
  },
  {
   "cell_type": "code",
   "execution_count": 97,
   "metadata": {},
   "outputs": [
    {
     "name": "stdout",
     "output_type": "stream",
     "text": [
      "name: Ali tel: \n"
     ]
    }
   ],
   "source": [
    "p.set_name('Ali')\n",
    "print(p)"
   ]
  },
  {
   "cell_type": "code",
   "execution_count": 98,
   "metadata": {},
   "outputs": [
    {
     "name": "stdout",
     "output_type": "stream",
     "text": [
      "Ali\n"
     ]
    }
   ],
   "source": [
    "print(p.get_name())"
   ]
  },
  {
   "cell_type": "code",
   "execution_count": 99,
   "metadata": {},
   "outputs": [
    {
     "name": "stdout",
     "output_type": "stream",
     "text": [
      "name: Hassan tel: \n"
     ]
    }
   ],
   "source": [
    "p.name = 'Hassan'\n",
    "print(p)"
   ]
  },
  {
   "cell_type": "code",
   "execution_count": 100,
   "metadata": {},
   "outputs": [
    {
     "name": "stdout",
     "output_type": "stream",
     "text": [
      "Hassan\n"
     ]
    }
   ],
   "source": [
    "print(p.name)"
   ]
  },
  {
   "cell_type": "code",
   "execution_count": 101,
   "metadata": {},
   "outputs": [],
   "source": [
    "p.set_tel('059000111')"
   ]
  },
  {
   "cell_type": "code",
   "execution_count": 102,
   "metadata": {},
   "outputs": [
    {
     "name": "stdout",
     "output_type": "stream",
     "text": [
      "name: Hassan tel: 059000111\n"
     ]
    }
   ],
   "source": [
    "print(p)"
   ]
  },
  {
   "cell_type": "code",
   "execution_count": 103,
   "metadata": {},
   "outputs": [],
   "source": [
    "p.tel = '059000112'"
   ]
  },
  {
   "cell_type": "code",
   "execution_count": 104,
   "metadata": {},
   "outputs": [
    {
     "name": "stdout",
     "output_type": "stream",
     "text": [
      "name: Hassan tel: 059000112\n"
     ]
    }
   ],
   "source": [
    "print(p)"
   ]
  },
  {
   "cell_type": "markdown",
   "metadata": {},
   "source": [
    "# inheritance  "
   ]
  },
  {
   "cell_type": "code",
   "execution_count": null,
   "metadata": {},
   "outputs": [],
   "source": [
    "class A:\n",
    "    pass \n",
    "\n",
    "class B(A): # A super class, B sub class \n",
    "    pass "
   ]
  },
  {
   "cell_type": "markdown",
   "metadata": {},
   "source": [
    "#  Square  & Cube "
   ]
  },
  {
   "cell_type": "code",
   "execution_count": 111,
   "metadata": {},
   "outputs": [],
   "source": [
    "class Square:\n",
    "    def __init__(self, length=1):\n",
    "        self.length = length\n",
    "    def area(self):\n",
    "        return self.length * self.length \n",
    "    def perimeter(self):\n",
    "        return self.length * 4 \n",
    "    def __str__(self):\n",
    "        return 'length: {}'.format(self.length)"
   ]
  },
  {
   "cell_type": "code",
   "execution_count": 112,
   "metadata": {},
   "outputs": [
    {
     "name": "stdout",
     "output_type": "stream",
     "text": [
      "length: 2\n",
      "area: 4\n",
      "perimeter:  8\n"
     ]
    }
   ],
   "source": [
    "s = Square(2)\n",
    "print(s)\n",
    "print('area:', s.area())\n",
    "print('perimeter: ', s.perimeter())"
   ]
  },
  {
   "cell_type": "code",
   "execution_count": 118,
   "metadata": {},
   "outputs": [],
   "source": [
    "class Cube(Square):\n",
    "    def area(self):\n",
    "        return super().area() * 6 \n",
    "    def volume(self):\n",
    "        # self.length ** 3 \n",
    "        return super().area() * self.length       "
   ]
  },
  {
   "cell_type": "code",
   "execution_count": 119,
   "metadata": {},
   "outputs": [
    {
     "name": "stdout",
     "output_type": "stream",
     "text": [
      "length: 3\n",
      "area: 54\n",
      "volume:  27\n"
     ]
    }
   ],
   "source": [
    "c = Cube(3)\n",
    "print(c)\n",
    "print('area:', c.area())\n",
    "print('volume: ', c.volume())"
   ]
  },
  {
   "cell_type": "markdown",
   "metadata": {},
   "source": [
    "# Person & Employee "
   ]
  },
  {
   "cell_type": "code",
   "execution_count": 120,
   "metadata": {},
   "outputs": [],
   "source": [
    "class Person():\n",
    "    def __init__(self, fname='Anonymous', \n",
    "                 lname='', tel=''):\n",
    "        self.fname = fname\n",
    "        self.lname= lname\n",
    "        self.tel = tel \n",
    "    def __str__(self):\n",
    "        return 'Name: {} {}. tel:{}'.format(self.fname, \n",
    "                                            self.lname, \n",
    "                                            self.tel)"
   ]
  },
  {
   "cell_type": "code",
   "execution_count": 121,
   "metadata": {},
   "outputs": [
    {
     "name": "stdout",
     "output_type": "stream",
     "text": [
      "Name: Anonymous . tel:\n",
      "Name: Mohammed Ali. tel:\n"
     ]
    }
   ],
   "source": [
    "p1 = Person()\n",
    "print(p1)\n",
    "p2 = Person(fname='Mohammed', lname='Ali')\n",
    "print(p2)"
   ]
  },
  {
   "cell_type": "code",
   "execution_count": 130,
   "metadata": {},
   "outputs": [],
   "source": [
    "class Employee(Person):\n",
    "    def __init__(self, fname='Anonymous', lname='', \n",
    "                 tel='', empid='111'):\n",
    "        super().__init__(fname, lname, tel) # reuse \n",
    "        self.empid = empid \n",
    "    def __str__(self):\n",
    "        # reuse \n",
    "        return super().__str__() + '\\nEmp ID: {}'.format(self.empid)\n",
    "    "
   ]
  },
  {
   "cell_type": "code",
   "execution_count": 131,
   "metadata": {},
   "outputs": [
    {
     "name": "stdout",
     "output_type": "stream",
     "text": [
      "Name: Ahmed Ali. tel:\n",
      "Emp ID: 777\n",
      "Name: Anonymous . tel:\n",
      "Emp ID: 111\n"
     ]
    }
   ],
   "source": [
    "e1 = Employee(fname='Ahmed', lname='Ali', empid='777')\n",
    "print(e1)\n",
    "e2 = Employee()\n",
    "print(e2)"
   ]
  },
  {
   "cell_type": "markdown",
   "metadata": {},
   "source": [
    "# Polymorphism \n",
    "\n",
    "cat, dog, elephant, ... ===> super class: animal\n",
    "car, van, bus, train, ... ===> super class: veichle \n",
    "\n",
    "common behaivor ==> move \n",
    "\n",
    "\n",
    "class Cat(Animal, Character) \n",
    "\n",
    "class Train(Veichle, Character) \n",
    "\n",
    "cat.move()\n",
    "train.move()"
   ]
  },
  {
   "cell_type": "code",
   "execution_count": 132,
   "metadata": {},
   "outputs": [
    {
     "data": {
      "text/plain": [
       "True"
      ]
     },
     "execution_count": 132,
     "metadata": {},
     "output_type": "execute_result"
    }
   ],
   "source": [
    "isinstance(p1, Person)"
   ]
  },
  {
   "cell_type": "code",
   "execution_count": 133,
   "metadata": {},
   "outputs": [
    {
     "data": {
      "text/plain": [
       "True"
      ]
     },
     "execution_count": 133,
     "metadata": {},
     "output_type": "execute_result"
    }
   ],
   "source": [
    "isinstance(e1, Person)"
   ]
  },
  {
   "cell_type": "markdown",
   "metadata": {},
   "source": [
    "object is an instance of a class (template)\n",
    "\n",
    "instance is an object of a class (template)"
   ]
  },
  {
   "cell_type": "code",
   "execution_count": 134,
   "metadata": {},
   "outputs": [
    {
     "data": {
      "text/plain": [
       "True"
      ]
     },
     "execution_count": 134,
     "metadata": {},
     "output_type": "execute_result"
    }
   ],
   "source": [
    "issubclass(Employee, Person)"
   ]
  },
  {
   "cell_type": "code",
   "execution_count": 136,
   "metadata": {},
   "outputs": [
    {
     "data": {
      "text/plain": [
       "False"
      ]
     },
     "execution_count": 136,
     "metadata": {},
     "output_type": "execute_result"
    }
   ],
   "source": [
    "issubclass(Person, Employee)"
   ]
  },
  {
   "cell_type": "code",
   "execution_count": 137,
   "metadata": {},
   "outputs": [
    {
     "name": "stdout",
     "output_type": "stream",
     "text": [
      "['__class__', '__delattr__', '__dict__', '__dir__', '__doc__', '__eq__', '__format__', '__ge__', '__getattribute__', '__gt__', '__hash__', '__init__', '__init_subclass__', '__le__', '__lt__', '__module__', '__ne__', '__new__', '__reduce__', '__reduce_ex__', '__repr__', '__setattr__', '__sizeof__', '__str__', '__subclasshook__', '__weakref__', 'fname', 'lname', 'tel']\n"
     ]
    }
   ],
   "source": [
    "print(dir(p1))"
   ]
  },
  {
   "cell_type": "markdown",
   "metadata": {},
   "source": [
    "```\n",
    "best_s\n",
    "for s in students:\n",
    "    if s > best_s:\n",
    "        pass \n",
    "```\n",
    "* le ==> less than or equal <=\n",
    "* lt ==> less than < \n",
    "* ge ==> greater than or equal >= \n",
    "* gt ==> greater than > "
   ]
  },
  {
   "cell_type": "code",
   "execution_count": null,
   "metadata": {},
   "outputs": [],
   "source": []
  }
 ],
 "metadata": {
  "kernelspec": {
   "display_name": "Python 3",
   "language": "python",
   "name": "python3"
  },
  "language_info": {
   "codemirror_mode": {
    "name": "ipython",
    "version": 3
   },
   "file_extension": ".py",
   "mimetype": "text/x-python",
   "name": "python",
   "nbconvert_exporter": "python",
   "pygments_lexer": "ipython3",
   "version": "3.7.0"
  }
 },
 "nbformat": 4,
 "nbformat_minor": 2
}
