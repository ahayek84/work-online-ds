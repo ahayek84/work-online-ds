{
 "cells": [
  {
   "cell_type": "markdown",
   "metadata": {},
   "source": [
    "The code is either \n",
    "\n",
    "* sequential \n",
    "* conditional \n",
    "* repeated "
   ]
  },
  {
   "cell_type": "code",
   "execution_count": 1,
   "metadata": {},
   "outputs": [
    {
     "name": "stdin",
     "output_type": "stream",
     "text": [
      "please enter your name:  ahmed\n"
     ]
    },
    {
     "name": "stdout",
     "output_type": "stream",
     "text": [
      "hello ahmed\n",
      "**********\n",
      "hello\n"
     ]
    }
   ],
   "source": [
    "# sequential code \n",
    "name = input('please enter your name: ')\n",
    "print('hello ' + name)\n",
    "print('*' * 10)\n",
    "print('hello')"
   ]
  },
  {
   "cell_type": "markdown",
   "metadata": {},
   "source": [
    "# Conditional "
   ]
  },
  {
   "cell_type": "markdown",
   "metadata": {},
   "source": [
    "## one way decision "
   ]
  },
  {
   "cell_type": "code",
   "execution_count": 2,
   "metadata": {},
   "outputs": [
    {
     "name": "stdout",
     "output_type": "stream",
     "text": [
      "big\n",
      "it is big\n",
      "done\n"
     ]
    }
   ],
   "source": [
    "x = 10 \n",
    "if x > 3:\n",
    "    print('big')\n",
    "    print('it is big')\n",
    "print('done')"
   ]
  },
  {
   "cell_type": "code",
   "execution_count": 3,
   "metadata": {},
   "outputs": [
    {
     "name": "stdout",
     "output_type": "stream",
     "text": [
      "done\n"
     ]
    }
   ],
   "source": [
    "x = 2 \n",
    "if x > 3:\n",
    "    print('big')\n",
    "    print('it is big')\n",
    "print('done')"
   ]
  },
  {
   "cell_type": "markdown",
   "metadata": {},
   "source": [
    "# two decision "
   ]
  },
  {
   "cell_type": "code",
   "execution_count": 4,
   "metadata": {},
   "outputs": [
    {
     "name": "stdout",
     "output_type": "stream",
     "text": [
      "big\n",
      "it is big\n",
      "done\n"
     ]
    }
   ],
   "source": [
    "x = 10 \n",
    "if x > 3:\n",
    "    print('big')\n",
    "    print('it is big')\n",
    "else:\n",
    "    print('small')\n",
    "    print('it is small')\n",
    "print('done')"
   ]
  },
  {
   "cell_type": "code",
   "execution_count": 5,
   "metadata": {},
   "outputs": [
    {
     "name": "stdout",
     "output_type": "stream",
     "text": [
      "small\n",
      "it is small\n",
      "done\n"
     ]
    }
   ],
   "source": [
    "x = 2 \n",
    "if x > 3: # x > 3\n",
    "    print('big')\n",
    "    print('it is big')\n",
    "else: # x <= 3 \n",
    "    print('small')\n",
    "    print('it is small')\n",
    "print('done')"
   ]
  },
  {
   "cell_type": "markdown",
   "metadata": {},
   "source": [
    "# multi way decision "
   ]
  },
  {
   "cell_type": "code",
   "execution_count": 6,
   "metadata": {},
   "outputs": [
    {
     "name": "stdout",
     "output_type": "stream",
     "text": [
      "done\n"
     ]
    }
   ],
   "source": [
    "x = 2 \n",
    "if x > 3: # x > 3\n",
    "    print('big')\n",
    "    print('it is big')\n",
    "else: # x <= 2 \n",
    "    if x < 1: \n",
    "        print('small')\n",
    "        print('it is small')\n",
    "print('done')"
   ]
  },
  {
   "cell_type": "code",
   "execution_count": 7,
   "metadata": {},
   "outputs": [
    {
     "name": "stdout",
     "output_type": "stream",
     "text": [
      "between 1 and 3\n",
      "done\n"
     ]
    }
   ],
   "source": [
    "x = 2 \n",
    "if x > 3: # x > 3\n",
    "    print('big')\n",
    "    print('it is big')\n",
    "elif x < 1: # x <= 3 \n",
    "    print('small')\n",
    "    print('it is small')\n",
    "else: \n",
    "    print('between 1 and 3')\n",
    "print('done')"
   ]
  },
  {
   "cell_type": "markdown",
   "metadata": {},
   "source": [
    "# Exceptions "
   ]
  },
  {
   "cell_type": "code",
   "execution_count": 8,
   "metadata": {},
   "outputs": [
    {
     "name": "stdin",
     "output_type": "stream",
     "text": [
      "enter a number:  fouty\n"
     ]
    },
    {
     "name": "stdout",
     "output_type": "stream",
     "text": [
      "error in input\n"
     ]
    }
   ],
   "source": [
    "try:\n",
    "    number_str = input('enter a number: ')\n",
    "    number = int(number_str)\n",
    "    print(number)\n",
    "except:\n",
    "    print('error in input')"
   ]
  },
  {
   "cell_type": "code",
   "execution_count": 2,
   "metadata": {},
   "outputs": [
    {
     "name": "stdin",
     "output_type": "stream",
     "text": [
      "enter a number:  20\n"
     ]
    },
    {
     "name": "stdout",
     "output_type": "stream",
     "text": [
      "20\n",
      "cannot divid by zero\n"
     ]
    }
   ],
   "source": [
    "try:\n",
    "    number_str = input('enter a number: ')\n",
    "    number = int(number_str)\n",
    "    print(number)\n",
    "    print(number / 0)\n",
    "except ValueError:\n",
    "    print('input must be numeric')\n",
    "except ZeroDivisionError:\n",
    "    print('cannot divid by zero')"
   ]
  },
  {
   "cell_type": "code",
   "execution_count": null,
   "metadata": {},
   "outputs": [],
   "source": []
  }
 ],
 "metadata": {
  "kernelspec": {
   "display_name": "Python 3",
   "language": "python",
   "name": "python3"
  },
  "language_info": {
   "codemirror_mode": {
    "name": "ipython",
    "version": 3
   },
   "file_extension": ".py",
   "mimetype": "text/x-python",
   "name": "python",
   "nbconvert_exporter": "python",
   "pygments_lexer": "ipython3",
   "version": "3.7.0"
  }
 },
 "nbformat": 4,
 "nbformat_minor": 2
}
